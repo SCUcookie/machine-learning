{
 "cells": [
  {
   "cell_type": "code",
   "execution_count": 5,
   "id": "1bb2a616",
   "metadata": {
    "scrolled": true
   },
   "outputs": [],
   "source": [
    "import gc\n",
    "import numpy as np\n",
    "import torch\n",
    "import torch.nn as nn\n",
    "import torchvision\n",
    "import torchvision.transforms as transforms\n",
    "import torch.optim as optim\n",
    "import matplotlib.pyplot as plt"
   ]
  },
  {
   "cell_type": "code",
   "execution_count": 6,
   "id": "c9d8743e",
   "metadata": {},
   "outputs": [],
   "source": [
    "gc.collect()\n",
    "torch.cuda.empty_cache()"
   ]
  },
  {
   "cell_type": "code",
   "execution_count": 7,
   "id": "59799da1",
   "metadata": {},
   "outputs": [],
   "source": [
    "def load_cifar10_dataset(train_batch_size, val_batch_size):\n",
    "    transform = transforms.Compose([\n",
    "        transforms.ToTensor(),\n",
    "        transforms.Normalize((0.5, 0.5, 0.5), (0.5, 0.5, 0.5))\n",
    "    ])\n",
    "    trainset = torchvision.datasets.CIFAR10(root='./data', train=True,download=True, transform=transform)\n",
    "    trainset, valset = torch.utils.data.random_split(trainset, [len(trainset) - 5000, 5000])\n",
    "    trainloader = torch.utils.data.DataLoader(trainset, batch_size=train_batch_size,shuffle=True, num_workers=2)\n",
    "    valloader = torch.utils.data.DataLoader(valset, batch_size=val_batch_size,shuffle=False, num_workers=2)\n",
    "    testset = torchvision.datasets.CIFAR10(root='./data', train=False,download=True, transform=transform)\n",
    "    testloader = torch.utils.data.DataLoader(testset, batch_size=val_batch_size,shuffle=False, num_workers=2)\n",
    "    return trainloader, valloader, testloader"
   ]
  },
  {
   "cell_type": "code",
   "execution_count": 8,
   "id": "5c0039c0",
   "metadata": {},
   "outputs": [
    {
     "name": "stdout",
     "output_type": "stream",
     "text": [
      "Files already downloaded and verified\n",
      "Files already downloaded and verified\n"
     ]
    }
   ],
   "source": [
    "train_batch_size = 128\n",
    "val_batch_size = 128\n",
    "trainloader, valloader, testloader = load_cifar10_dataset(train_batch_size, val_batch_size)"
   ]
  },
  {
   "cell_type": "code",
   "execution_count": 9,
   "id": "9ac016d7",
   "metadata": {},
   "outputs": [],
   "source": [
    "class Net(nn.Module):\n",
    "    def __init__(self):\n",
    "        super(Net, self).__init__()\n",
    "        self.layer1 = nn.Sequential(\n",
    "            nn.Conv2d(in_channels=3, out_channels=64, kernel_size=3, stride=1, padding=1),\n",
    "            nn.BatchNorm2d(64),\n",
    "            nn.ReLU(inplace=True),\n",
    "            nn.Conv2d(in_channels=64, out_channels=64, kernel_size=3, stride=1, padding=1),\n",
    "            nn.BatchNorm2d(64),\n",
    "            nn.ReLU(inplace=True),\n",
    "            nn.MaxPool2d(kernel_size=2, stride=2)\n",
    "        )\n",
    "        self.layer2 = nn.Sequential(\n",
    "            nn.Conv2d(in_channels=64, out_channels=128, kernel_size=3, stride=1, padding=1),\n",
    "            nn.BatchNorm2d(128),\n",
    "            nn.ReLU(inplace=True),\n",
    "            nn.Conv2d(in_channels=128, out_channels=128, kernel_size=3, stride=1, padding=1),\n",
    "            nn.BatchNorm2d(128),\n",
    "            nn.ReLU(inplace=True),\n",
    "            nn.MaxPool2d(2, 2)\n",
    "        )\n",
    "        self.layer3 = nn.Sequential(\n",
    "            nn.Conv2d(in_channels=128, out_channels=256, kernel_size=3, stride=1, padding=1),\n",
    "            nn.BatchNorm2d(256),\n",
    "            nn.ReLU(inplace=True),\n",
    "\n",
    "            nn.Conv2d(in_channels=256, out_channels=256, kernel_size=3, stride=1, padding=1),\n",
    "            nn.BatchNorm2d(256),\n",
    "            nn.ReLU(inplace=True),\n",
    "\n",
    "            nn.Conv2d(in_channels=256, out_channels=256, kernel_size=3, stride=1, padding=1),\n",
    "            nn.BatchNorm2d(256),\n",
    "            nn.ReLU(inplace=True),\n",
    "\n",
    "            nn.MaxPool2d(2, 2)\n",
    "        )\n",
    "\n",
    "        self.layer4 = nn.Sequential(\n",
    "            nn.Conv2d(in_channels=256, out_channels=512, kernel_size=3, stride=1, padding=1),\n",
    "            nn.BatchNorm2d(512),\n",
    "            nn.ReLU(inplace=True),\n",
    "\n",
    "            nn.Conv2d(in_channels=512, out_channels=512, kernel_size=3, stride=1, padding=1),\n",
    "            nn.BatchNorm2d(512),\n",
    "            nn.ReLU(inplace=True),\n",
    "\n",
    "            nn.Conv2d(in_channels=512, out_channels=512, kernel_size=3, stride=1, padding=1),\n",
    "            nn.BatchNorm2d(512),\n",
    "            nn.ReLU(inplace=True),\n",
    "\n",
    "            nn.MaxPool2d(2, 2)\n",
    "        )\n",
    "\n",
    "        self.layer5 = nn.Sequential(\n",
    "            nn.Conv2d(in_channels=512, out_channels=512, kernel_size=3, stride=1, padding=1),\n",
    "            nn.BatchNorm2d(512),\n",
    "            nn.ReLU(inplace=True),\n",
    "\n",
    "            nn.Conv2d(in_channels=512, out_channels=512, kernel_size=3, stride=1, padding=1),\n",
    "            nn.BatchNorm2d(512),\n",
    "            nn.ReLU(inplace=True),\n",
    "\n",
    "            nn.Conv2d(in_channels=512, out_channels=512, kernel_size=3, stride=1, padding=1),\n",
    "            nn.BatchNorm2d(512),\n",
    "            nn.ReLU(inplace=True),\n",
    "\n",
    "            nn.MaxPool2d(2, 2)\n",
    "        )\n",
    "\n",
    "        self.conv = nn.Sequential(\n",
    "            self.layer1,\n",
    "            self.layer2,\n",
    "            self.layer3,\n",
    "            self.layer4,\n",
    "            self.layer5\n",
    "        )\n",
    "\n",
    "        self.fc = nn.Sequential(\n",
    "            nn.Linear(512, 512),\n",
    "            nn.ReLU(inplace=True),\n",
    "            nn.Dropout(0.5),\n",
    "\n",
    "            nn.Linear(512, 256),\n",
    "            nn.ReLU(inplace=True),\n",
    "            nn.Dropout(0.5),\n",
    "\n",
    "            nn.Linear(256, 10)\n",
    "        )\n",
    "\n",
    "    def forward(self, x):\n",
    "        x = self.conv(x)\n",
    "        x = x.view(-1, 512)\n",
    "        x = self.fc(x)\n",
    "        return x"
   ]
  },
  {
   "cell_type": "code",
   "execution_count": 10,
   "id": "9b853512",
   "metadata": {},
   "outputs": [],
   "source": [
    "device = torch.device(\"cuda\" if torch.cuda.is_available() else \"cpu\")\n",
    "net=Net().to(device)\n",
    "criterion = nn.CrossEntropyLoss()\n",
    "optimizer = optim.SGD(net.parameters(), lr=0.01, momentum=0.9)"
   ]
  },
  {
   "cell_type": "code",
   "execution_count": 11,
   "id": "b83397bd",
   "metadata": {},
   "outputs": [],
   "source": [
    "train_=[]\n",
    "val_=[]\n",
    "def train(net, trainloader, valloader, criterion, optimizer, num_epochs):\n",
    "    train_losses = []\n",
    "    val_losses = []\n",
    "\n",
    "    for epoch in range(num_epochs):\n",
    "        running_loss = 0.0\n",
    "        net.train()\n",
    "        for i, data in enumerate(trainloader, 0):            \n",
    "            inputs, labels = data\n",
    "            inputs, labels = inputs.to(device),labels.to(device)\n",
    "            optimizer.zero_grad()\n",
    "            outputs = net(inputs)\n",
    "            loss = criterion(outputs, labels)\n",
    "            loss.backward()\n",
    "            optimizer.step()\n",
    "\n",
    "            running_loss += loss.item()\n",
    "\n",
    "        train_loss = running_loss / len(trainloader)\n",
    "        train_losses.append(train_loss)\n",
    "\n",
    "        net.eval()\n",
    "        val_loss = 0.0\n",
    "        correct = 0\n",
    "        total = 0\n",
    "        with torch.no_grad():\n",
    "            for data in valloader:\n",
    "                inputs, labels = data\n",
    "                inputs, labels = inputs.to(device), labels.to(device)\n",
    "                outputs = net(inputs)\n",
    "                loss = criterion(outputs, labels)\n",
    "                val_loss += loss.item()\n",
    "                _, predicted = torch.max(outputs.data, 1)\n",
    "                total += labels.size(0)\n",
    "                correct += (predicted.to(device) == labels.to(device)).sum().item()\n",
    "\n",
    "        val_loss /= len(valloader)\n",
    "        val_losses.append(val_loss)\n",
    "\n",
    "        print('Epoch [{}/{}], Train Loss: {:.4f}, Val Loss: {:.4f}, Val Accuracy: {:.2f}%'\n",
    "              .format(epoch+1, num_epochs, train_loss, val_loss, 100 * correct / total))\n",
    "        train_.append(train_loss)\n",
    "        val_.append(val_loss)\n",
    "    return train_losses, val_losses"
   ]
  },
  {
   "cell_type": "code",
   "execution_count": 12,
   "id": "44edbdf0",
   "metadata": {},
   "outputs": [
    {
     "name": "stdout",
     "output_type": "stream",
     "text": [
      "Epoch [1/20], Train Loss: 1.5102, Val Loss: 1.3865, Val Accuracy: 50.76%\n",
      "Epoch [2/20], Train Loss: 0.9572, Val Loss: 0.8926, Val Accuracy: 70.10%\n",
      "Epoch [3/20], Train Loss: 0.7344, Val Loss: 0.8460, Val Accuracy: 72.56%\n",
      "Epoch [4/20], Train Loss: 0.5850, Val Loss: 0.7110, Val Accuracy: 76.34%\n",
      "Epoch [5/20], Train Loss: 0.4860, Val Loss: 0.6738, Val Accuracy: 78.60%\n",
      "Epoch [6/20], Train Loss: 0.3947, Val Loss: 0.5936, Val Accuracy: 80.56%\n",
      "Epoch [7/20], Train Loss: 0.3258, Val Loss: 0.5732, Val Accuracy: 82.64%\n",
      "Epoch [8/20], Train Loss: 0.2795, Val Loss: 0.6448, Val Accuracy: 81.12%\n",
      "Epoch [9/20], Train Loss: 0.2189, Val Loss: 0.7207, Val Accuracy: 80.46%\n",
      "Epoch [10/20], Train Loss: 0.1813, Val Loss: 0.6449, Val Accuracy: 82.26%\n",
      "Epoch [11/20], Train Loss: 0.1526, Val Loss: 0.7439, Val Accuracy: 81.38%\n",
      "Epoch [12/20], Train Loss: 0.1214, Val Loss: 0.6133, Val Accuracy: 83.68%\n",
      "Epoch [13/20], Train Loss: 0.0998, Val Loss: 0.7354, Val Accuracy: 82.26%\n",
      "Epoch [14/20], Train Loss: 0.0899, Val Loss: 0.7235, Val Accuracy: 82.60%\n",
      "Epoch [15/20], Train Loss: 0.0784, Val Loss: 0.6670, Val Accuracy: 85.06%\n",
      "Epoch [16/20], Train Loss: 0.0628, Val Loss: 0.7443, Val Accuracy: 83.54%\n",
      "Epoch [17/20], Train Loss: 0.0599, Val Loss: 0.8211, Val Accuracy: 82.36%\n",
      "Epoch [18/20], Train Loss: 0.0545, Val Loss: 0.8475, Val Accuracy: 82.42%\n",
      "Epoch [19/20], Train Loss: 0.0452, Val Loss: 0.7351, Val Accuracy: 84.24%\n",
      "Epoch [20/20], Train Loss: 0.0357, Val Loss: 0.7929, Val Accuracy: 84.58%\n"
     ]
    }
   ],
   "source": [
    "num_epochs = 20\n",
    "train_losses, val_losses = train(net, trainloader, valloader, criterion, optimizer, num_epochs)"
   ]
  },
  {
   "cell_type": "code",
   "execution_count": 14,
   "id": "bbdbb355",
   "metadata": {},
   "outputs": [
    {
     "data": {
      "image/png": "[encoded data removed]",
      "text/plain": [
       "<Figure size 640x480 with 1 Axes>"
      ]
     },
     "metadata": {},
     "output_type": "display_data"
    }
   ],
   "source": [
    "import matplotlib.pyplot as plt\n",
    "plt.plot(range(1, 21), train_losses, label='Train Loss')\n",
    "plt.plot(range(1, 21), val_losses, label='Val Loss')\n",
    "plt.xlabel('Epoch')\n",
    "plt.ylabel('Loss')\n",
    "plt.savefig('plot.png')\n",
    "plt.legend()\n",
    "plt.show()"
   ]
  },
  {
   "cell_type": "code",
   "execution_count": null,
   "id": "d0b2629e",
   "metadata": {},
   "outputs": [],
   "source": []
  }
 ],
 "metadata": {
  "kernelspec": {
   "display_name": "Python 3 (ipykernel)",
   "language": "python",
   "name": "python3"
  },
  "language_info": {
   "codemirror_mode": {
    "name": "ipython",
    "version": 3
   },
   "file_extension": ".py",
   "mimetype": "text/x-python",
   "name": "python",
   "nbconvert_exporter": "python",
   "pygments_lexer": "ipython3",
   "version": "3.8.13"
  }
 },
 "nbformat": 4,
 "nbformat_minor": 5
}
